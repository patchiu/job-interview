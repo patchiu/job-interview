{
 "cells": [
  {
   "cell_type": "code",
   "execution_count": 1,
   "metadata": {},
   "outputs": [],
   "source": [
    "import pandas as pd\n",
    "import numpy as np\n",
    "import datetime as dt\n",
    "from datetime import datetime\n",
    "from datetime import date\n",
    "\n",
    "np.set_printoptions(suppress=True)\n",
    "\n",
    "import os\n",
    "root=os.path.abspath(os.curdir)"
   ]
  },
  {
   "cell_type": "markdown",
   "metadata": {},
   "source": [
    "# Data checking"
   ]
  },
  {
   "cell_type": "code",
   "execution_count": 3,
   "metadata": {},
   "outputs": [],
   "source": [
    "df = pd.read_excel('raw transaction test data.xlsx') #load the data"
   ]
  },
  {
   "cell_type": "code",
   "execution_count": 4,
   "metadata": {},
   "outputs": [
    {
     "name": "stdout",
     "output_type": "stream",
     "text": [
      "Columns name\n",
      "====================\n",
      "Index(['Customer code', 'Vehicle code', 'date_service', 'value_scaled'], dtype='object')\n"
     ]
    }
   ],
   "source": [
    "print(\"Columns name\")\n",
    "print(\"=\"*20)\n",
    "print(df.columns)"
   ]
  },
  {
   "cell_type": "code",
   "execution_count": 5,
   "metadata": {},
   "outputs": [
    {
     "name": "stdout",
     "output_type": "stream",
     "text": [
      "Data head\n",
      "====================\n",
      "<bound method NDFrame.head of         Customer code  Vehicle code date_service  value_scaled\n",
      "0              107444          4349   2017-05-24     -0.142181\n",
      "1              107444          4349   2017-12-12      0.089364\n",
      "2              107444          4349   2017-12-12     -0.219370\n",
      "3              107444          4349   2017-05-24      4.590631\n",
      "4              107444          4349   2017-05-24     -0.219370\n",
      "...               ...           ...          ...           ...\n",
      "329142         207018        243666   2019-12-13     -0.143333\n",
      "329143         206181        243674   2019-12-30     -0.255510\n",
      "329144         206181        243674   2019-12-30     -0.243733\n",
      "329145         135552        243862   2019-12-18     -0.111130\n",
      "329146         206445        244493   2019-12-17      0.132995\n",
      "\n",
      "[329147 rows x 4 columns]>\n"
     ]
    }
   ],
   "source": [
    "print(\"Data head\")\n",
    "print(\"=\"*20)\n",
    "print(df.head)"
   ]
  },
  {
   "cell_type": "code",
   "execution_count": 6,
   "metadata": {},
   "outputs": [
    {
     "name": "stdout",
     "output_type": "stream",
     "text": [
      "Check Nan\n",
      "====================\n",
      "Customer code    0\n",
      "Vehicle code     0\n",
      "date_service     0\n",
      "value_scaled     0\n",
      "dtype: int64\n"
     ]
    }
   ],
   "source": [
    "print(\"Check Nan\")\n",
    "print(\"=\"*20)\n",
    "print(df.isna().sum())"
   ]
  },
  {
   "cell_type": "code",
   "execution_count": 7,
   "metadata": {},
   "outputs": [
    {
     "name": "stdout",
     "output_type": "stream",
     "text": [
      "Data summary\n",
      "====================\n"
     ]
    },
    {
     "data": {
      "text/html": [
       "<div>\n",
       "<style scoped>\n",
       "    .dataframe tbody tr th:only-of-type {\n",
       "        vertical-align: middle;\n",
       "    }\n",
       "\n",
       "    .dataframe tbody tr th {\n",
       "        vertical-align: top;\n",
       "    }\n",
       "\n",
       "    .dataframe thead th {\n",
       "        text-align: right;\n",
       "    }\n",
       "</style>\n",
       "<table border=\"1\" class=\"dataframe\">\n",
       "  <thead>\n",
       "    <tr style=\"text-align: right;\">\n",
       "      <th></th>\n",
       "      <th>Customer code</th>\n",
       "      <th>Vehicle code</th>\n",
       "      <th>value_scaled</th>\n",
       "    </tr>\n",
       "  </thead>\n",
       "  <tbody>\n",
       "    <tr>\n",
       "      <th>count</th>\n",
       "      <td>329147.000000</td>\n",
       "      <td>329147.000000</td>\n",
       "      <td>3.291470e+05</td>\n",
       "    </tr>\n",
       "    <tr>\n",
       "      <th>mean</th>\n",
       "      <td>139424.613103</td>\n",
       "      <td>197762.240637</td>\n",
       "      <td>-1.043006e-14</td>\n",
       "    </tr>\n",
       "    <tr>\n",
       "      <th>std</th>\n",
       "      <td>49493.217596</td>\n",
       "      <td>28506.454912</td>\n",
       "      <td>1.000000e+00</td>\n",
       "    </tr>\n",
       "    <tr>\n",
       "      <th>min</th>\n",
       "      <td>2.000000</td>\n",
       "      <td>4349.000000</td>\n",
       "      <td>-4.047112e+01</td>\n",
       "    </tr>\n",
       "    <tr>\n",
       "      <th>25%</th>\n",
       "      <td>110738.000000</td>\n",
       "      <td>186519.000000</td>\n",
       "      <td>-2.569366e-01</td>\n",
       "    </tr>\n",
       "    <tr>\n",
       "      <th>50%</th>\n",
       "      <td>151850.000000</td>\n",
       "      <td>203312.000000</td>\n",
       "      <td>-2.207079e-01</td>\n",
       "    </tr>\n",
       "    <tr>\n",
       "      <th>75%</th>\n",
       "      <td>177557.000000</td>\n",
       "      <td>216613.000000</td>\n",
       "      <td>1.025128e-02</td>\n",
       "    </tr>\n",
       "    <tr>\n",
       "      <th>max</th>\n",
       "      <td>209973.000000</td>\n",
       "      <td>244493.000000</td>\n",
       "      <td>9.808896e+01</td>\n",
       "    </tr>\n",
       "  </tbody>\n",
       "</table>\n",
       "</div>"
      ],
      "text/plain": [
       "       Customer code   Vehicle code  value_scaled\n",
       "count  329147.000000  329147.000000  3.291470e+05\n",
       "mean   139424.613103  197762.240637 -1.043006e-14\n",
       "std     49493.217596   28506.454912  1.000000e+00\n",
       "min         2.000000    4349.000000 -4.047112e+01\n",
       "25%    110738.000000  186519.000000 -2.569366e-01\n",
       "50%    151850.000000  203312.000000 -2.207079e-01\n",
       "75%    177557.000000  216613.000000  1.025128e-02\n",
       "max    209973.000000  244493.000000  9.808896e+01"
      ]
     },
     "execution_count": 7,
     "metadata": {},
     "output_type": "execute_result"
    }
   ],
   "source": [
    "print(\"Data summary\")\n",
    "print(\"=\"*20)\n",
    "df.describe()"
   ]
  },
  {
   "cell_type": "code",
   "execution_count": 8,
   "metadata": {},
   "outputs": [
    {
     "name": "stdout",
     "output_type": "stream",
     "text": [
      "Data types\n",
      "====================\n",
      "Customer code             int64\n",
      "Vehicle code              int64\n",
      "date_service     datetime64[ns]\n",
      "value_scaled            float64\n",
      "dtype: object\n"
     ]
    }
   ],
   "source": [
    "print(\"Data types\")\n",
    "print(\"=\"*20)\n",
    "print(df.dtypes)"
   ]
  },
  {
   "cell_type": "markdown",
   "metadata": {},
   "source": [
    "## +++++++++++++++++"
   ]
  },
  {
   "cell_type": "markdown",
   "metadata": {},
   "source": [
    "# Calculate R"
   ]
  },
  {
   "cell_type": "code",
   "execution_count": 9,
   "metadata": {},
   "outputs": [
    {
     "data": {
      "text/html": [
       "<div>\n",
       "<style scoped>\n",
       "    .dataframe tbody tr th:only-of-type {\n",
       "        vertical-align: middle;\n",
       "    }\n",
       "\n",
       "    .dataframe tbody tr th {\n",
       "        vertical-align: top;\n",
       "    }\n",
       "\n",
       "    .dataframe thead th {\n",
       "        text-align: right;\n",
       "    }\n",
       "</style>\n",
       "<table border=\"1\" class=\"dataframe\">\n",
       "  <thead>\n",
       "    <tr style=\"text-align: right;\">\n",
       "      <th></th>\n",
       "      <th>Customer code</th>\n",
       "      <th>Vehicle code</th>\n",
       "      <th>date_service</th>\n",
       "      <th>value_scaled</th>\n",
       "      <th>R</th>\n",
       "    </tr>\n",
       "  </thead>\n",
       "  <tbody>\n",
       "    <tr>\n",
       "      <th>0</th>\n",
       "      <td>107444</td>\n",
       "      <td>4349</td>\n",
       "      <td>2017-05-24</td>\n",
       "      <td>-0.142181</td>\n",
       "      <td>1168 days</td>\n",
       "    </tr>\n",
       "    <tr>\n",
       "      <th>1</th>\n",
       "      <td>107444</td>\n",
       "      <td>4349</td>\n",
       "      <td>2017-12-12</td>\n",
       "      <td>0.089364</td>\n",
       "      <td>966 days</td>\n",
       "    </tr>\n",
       "    <tr>\n",
       "      <th>2</th>\n",
       "      <td>107444</td>\n",
       "      <td>4349</td>\n",
       "      <td>2017-12-12</td>\n",
       "      <td>-0.219370</td>\n",
       "      <td>966 days</td>\n",
       "    </tr>\n",
       "    <tr>\n",
       "      <th>3</th>\n",
       "      <td>107444</td>\n",
       "      <td>4349</td>\n",
       "      <td>2017-05-24</td>\n",
       "      <td>4.590631</td>\n",
       "      <td>1168 days</td>\n",
       "    </tr>\n",
       "    <tr>\n",
       "      <th>4</th>\n",
       "      <td>107444</td>\n",
       "      <td>4349</td>\n",
       "      <td>2017-05-24</td>\n",
       "      <td>-0.219370</td>\n",
       "      <td>1168 days</td>\n",
       "    </tr>\n",
       "    <tr>\n",
       "      <th>...</th>\n",
       "      <td>...</td>\n",
       "      <td>...</td>\n",
       "      <td>...</td>\n",
       "      <td>...</td>\n",
       "      <td>...</td>\n",
       "    </tr>\n",
       "    <tr>\n",
       "      <th>329142</th>\n",
       "      <td>207018</td>\n",
       "      <td>243666</td>\n",
       "      <td>2019-12-13</td>\n",
       "      <td>-0.143333</td>\n",
       "      <td>235 days</td>\n",
       "    </tr>\n",
       "    <tr>\n",
       "      <th>329143</th>\n",
       "      <td>206181</td>\n",
       "      <td>243674</td>\n",
       "      <td>2019-12-30</td>\n",
       "      <td>-0.255510</td>\n",
       "      <td>218 days</td>\n",
       "    </tr>\n",
       "    <tr>\n",
       "      <th>329144</th>\n",
       "      <td>206181</td>\n",
       "      <td>243674</td>\n",
       "      <td>2019-12-30</td>\n",
       "      <td>-0.243733</td>\n",
       "      <td>218 days</td>\n",
       "    </tr>\n",
       "    <tr>\n",
       "      <th>329145</th>\n",
       "      <td>135552</td>\n",
       "      <td>243862</td>\n",
       "      <td>2019-12-18</td>\n",
       "      <td>-0.111130</td>\n",
       "      <td>230 days</td>\n",
       "    </tr>\n",
       "    <tr>\n",
       "      <th>329146</th>\n",
       "      <td>206445</td>\n",
       "      <td>244493</td>\n",
       "      <td>2019-12-17</td>\n",
       "      <td>0.132995</td>\n",
       "      <td>231 days</td>\n",
       "    </tr>\n",
       "  </tbody>\n",
       "</table>\n",
       "<p>329147 rows × 5 columns</p>\n",
       "</div>"
      ],
      "text/plain": [
       "        Customer code  Vehicle code date_service  value_scaled         R\n",
       "0              107444          4349   2017-05-24     -0.142181 1168 days\n",
       "1              107444          4349   2017-12-12      0.089364  966 days\n",
       "2              107444          4349   2017-12-12     -0.219370  966 days\n",
       "3              107444          4349   2017-05-24      4.590631 1168 days\n",
       "4              107444          4349   2017-05-24     -0.219370 1168 days\n",
       "...               ...           ...          ...           ...       ...\n",
       "329142         207018        243666   2019-12-13     -0.143333  235 days\n",
       "329143         206181        243674   2019-12-30     -0.255510  218 days\n",
       "329144         206181        243674   2019-12-30     -0.243733  218 days\n",
       "329145         135552        243862   2019-12-18     -0.111130  230 days\n",
       "329146         206445        244493   2019-12-17      0.132995  231 days\n",
       "\n",
       "[329147 rows x 5 columns]"
      ]
     },
     "execution_count": 9,
     "metadata": {},
     "output_type": "execute_result"
    }
   ],
   "source": [
    "date_4_8 = np.datetime64('2020-08-04')\n",
    "df['R']=df['date_service'].apply(lambda x: date_4_8 - x)\n",
    "df"
   ]
  },
  {
   "cell_type": "code",
   "execution_count": 10,
   "metadata": {},
   "outputs": [],
   "source": [
    "group_df = (df.groupby(['Customer code']))"
   ]
  },
  {
   "cell_type": "code",
   "execution_count": 11,
   "metadata": {},
   "outputs": [
    {
     "data": {
      "text/plain": [
       "Customer code\n",
       "2         218 days\n",
       "353       235 days\n",
       "412       341 days\n",
       "1067     1226 days\n",
       "1072      426 days\n",
       "            ...   \n",
       "209788    221 days\n",
       "209821    217 days\n",
       "209850    217 days\n",
       "209851    569 days\n",
       "209973    236 days\n",
       "Name: R, Length: 34481, dtype: timedelta64[ns]"
      ]
     },
     "execution_count": 11,
     "metadata": {},
     "output_type": "execute_result"
    }
   ],
   "source": [
    "R = group_df['R'].min()\n",
    "R"
   ]
  },
  {
   "cell_type": "markdown",
   "metadata": {},
   "source": [
    "# Calculate F"
   ]
  },
  {
   "cell_type": "code",
   "execution_count": 12,
   "metadata": {},
   "outputs": [
    {
     "data": {
      "text/plain": [
       "Customer code\n",
       "2         1540\n",
       "353         11\n",
       "412          1\n",
       "1067         3\n",
       "1072         3\n",
       "          ... \n",
       "209788       3\n",
       "209821       2\n",
       "209850       1\n",
       "209851       1\n",
       "209973       2\n",
       "Length: 34481, dtype: int64"
      ]
     },
     "execution_count": 12,
     "metadata": {},
     "output_type": "execute_result"
    }
   ],
   "source": [
    "F = group_df.size()\n",
    "F"
   ]
  },
  {
   "cell_type": "markdown",
   "metadata": {},
   "source": [
    "# Calculate M"
   ]
  },
  {
   "cell_type": "code",
   "execution_count": 13,
   "metadata": {},
   "outputs": [
    {
     "data": {
      "text/plain": [
       "Customer code\n",
       "2        -136.327942\n",
       "353         2.745761\n",
       "412        -0.220708\n",
       "1067        0.183986\n",
       "1072       -0.666124\n",
       "             ...    \n",
       "209788     -0.545189\n",
       "209821     -0.498428\n",
       "209850     -0.021952\n",
       "209851     -0.101221\n",
       "209973     -0.498416\n",
       "Name: value_scaled, Length: 34481, dtype: float64"
      ]
     },
     "execution_count": 13,
     "metadata": {},
     "output_type": "execute_result"
    }
   ],
   "source": [
    "group_df['value_scaled'].sum()"
   ]
  },
  {
   "cell_type": "code",
   "execution_count": 14,
   "metadata": {},
   "outputs": [
    {
     "data": {
      "text/plain": [
       "Customer code\n",
       "2         436\n",
       "353        10\n",
       "412         1\n",
       "1067        1\n",
       "1072        2\n",
       "         ... \n",
       "209788      1\n",
       "209821      1\n",
       "209850      1\n",
       "209851      1\n",
       "209973      1\n",
       "Name: date_service, Length: 34481, dtype: int64"
      ]
     },
     "execution_count": 14,
     "metadata": {},
     "output_type": "execute_result"
    }
   ],
   "source": [
    "group_df['date_service'].nunique()"
   ]
  },
  {
   "cell_type": "code",
   "execution_count": 15,
   "metadata": {},
   "outputs": [
    {
     "data": {
      "text/plain": [
       "Customer code\n",
       "2        -0.312679\n",
       "353       0.274576\n",
       "412      -0.220708\n",
       "1067      0.183986\n",
       "1072     -0.333062\n",
       "            ...   \n",
       "209788   -0.545189\n",
       "209821   -0.498428\n",
       "209850   -0.021952\n",
       "209851   -0.101221\n",
       "209973   -0.498416\n",
       "Length: 34481, dtype: float64"
      ]
     },
     "execution_count": 15,
     "metadata": {},
     "output_type": "execute_result"
    }
   ],
   "source": [
    "M = (group_df['value_scaled'].sum())/(group_df['date_service'].nunique())\n",
    "M"
   ]
  },
  {
   "cell_type": "code",
   "execution_count": 16,
   "metadata": {},
   "outputs": [],
   "source": [
    "RFM_df = pd.concat([R,F,M], axis=1)\n",
    "RFM_df=RFM_df.rename(columns={0: \"F\", 1: \"M\"})\n",
    "RFM_df['R']=RFM_df['R'].dt.days.astype('int16')\n",
    "RFM_df\n",
    "\n",
    "RFM_df.to_csv(os.path.join(root,'RFM_df.csv'),index=True)\n"
   ]
  },
  {
   "cell_type": "code",
   "execution_count": 17,
   "metadata": {},
   "outputs": [
    {
     "data": {
      "text/html": [
       "<div>\n",
       "<style scoped>\n",
       "    .dataframe tbody tr th:only-of-type {\n",
       "        vertical-align: middle;\n",
       "    }\n",
       "\n",
       "    .dataframe tbody tr th {\n",
       "        vertical-align: top;\n",
       "    }\n",
       "\n",
       "    .dataframe thead th {\n",
       "        text-align: right;\n",
       "    }\n",
       "</style>\n",
       "<table border=\"1\" class=\"dataframe\">\n",
       "  <thead>\n",
       "    <tr style=\"text-align: right;\">\n",
       "      <th></th>\n",
       "      <th>R</th>\n",
       "      <th>F</th>\n",
       "      <th>M</th>\n",
       "    </tr>\n",
       "  </thead>\n",
       "  <tbody>\n",
       "    <tr>\n",
       "      <th>count</th>\n",
       "      <td>34481.000000</td>\n",
       "      <td>34481.000000</td>\n",
       "      <td>34481.000000</td>\n",
       "    </tr>\n",
       "    <tr>\n",
       "      <th>mean</th>\n",
       "      <td>567.214669</td>\n",
       "      <td>9.545750</td>\n",
       "      <td>-0.037446</td>\n",
       "    </tr>\n",
       "    <tr>\n",
       "      <th>std</th>\n",
       "      <td>298.918382</td>\n",
       "      <td>12.615115</td>\n",
       "      <td>1.131535</td>\n",
       "    </tr>\n",
       "    <tr>\n",
       "      <th>min</th>\n",
       "      <td>217.000000</td>\n",
       "      <td>1.000000</td>\n",
       "      <td>-2.815254</td>\n",
       "    </tr>\n",
       "    <tr>\n",
       "      <th>25%</th>\n",
       "      <td>319.000000</td>\n",
       "      <td>3.000000</td>\n",
       "      <td>-0.428712</td>\n",
       "    </tr>\n",
       "    <tr>\n",
       "      <th>50%</th>\n",
       "      <td>480.000000</td>\n",
       "      <td>7.000000</td>\n",
       "      <td>-0.247156</td>\n",
       "    </tr>\n",
       "    <tr>\n",
       "      <th>75%</th>\n",
       "      <td>742.000000</td>\n",
       "      <td>13.000000</td>\n",
       "      <td>-0.000755</td>\n",
       "    </tr>\n",
       "    <tr>\n",
       "      <th>max</th>\n",
       "      <td>1310.000000</td>\n",
       "      <td>1540.000000</td>\n",
       "      <td>97.797440</td>\n",
       "    </tr>\n",
       "  </tbody>\n",
       "</table>\n",
       "</div>"
      ],
      "text/plain": [
       "                  R             F             M\n",
       "count  34481.000000  34481.000000  34481.000000\n",
       "mean     567.214669      9.545750     -0.037446\n",
       "std      298.918382     12.615115      1.131535\n",
       "min      217.000000      1.000000     -2.815254\n",
       "25%      319.000000      3.000000     -0.428712\n",
       "50%      480.000000      7.000000     -0.247156\n",
       "75%      742.000000     13.000000     -0.000755\n",
       "max     1310.000000   1540.000000     97.797440"
      ]
     },
     "execution_count": 17,
     "metadata": {},
     "output_type": "execute_result"
    }
   ],
   "source": [
    "RFM_df.describe()"
   ]
  },
  {
   "cell_type": "markdown",
   "metadata": {},
   "source": [
    "# ++++++++++++++++++++++++++++++"
   ]
  },
  {
   "cell_type": "markdown",
   "metadata": {},
   "source": [
    "# Calculate K-means"
   ]
  },
  {
   "cell_type": "markdown",
   "metadata": {},
   "source": [
    "## 1. K-means"
   ]
  },
  {
   "cell_type": "code",
   "execution_count": 19,
   "metadata": {},
   "outputs": [],
   "source": [
    "import matplotlib.pyplot as plt\n",
    "%matplotlib inline\n",
    "from sklearn.cluster import KMeans\n",
    "#import seaborn as sns"
   ]
  },
  {
   "cell_type": "code",
   "execution_count": 20,
   "metadata": {},
   "outputs": [
    {
     "name": "stdout",
     "output_type": "stream",
     "text": [
      "Number of cluster : 1\n",
      "sum of squared estimate of errors : 3086395150.3352976\n",
      "Number of cluster : 2\n",
      "sum of squared estimate of errors : 802140687.5860764\n",
      "Number of cluster : 3\n",
      "sum of squared estimate of errors : 323797029.63049287\n",
      "Number of cluster : 4\n",
      "sum of squared estimate of errors : 200306669.02938125\n",
      "Number of cluster : 5\n",
      "sum of squared estimate of errors : 120346204.54656136\n",
      "Number of cluster : 6\n",
      "sum of squared estimate of errors : 89650362.94075577\n",
      "Number of cluster : 7\n",
      "sum of squared estimate of errors : 65389239.00913702\n",
      "Number of cluster : 8\n",
      "sum of squared estimate of errors : 51344284.40772194\n",
      "Number of cluster : 9\n",
      "sum of squared estimate of errors : 41583355.87655824\n",
      "Number of cluster : 10\n",
      "sum of squared estimate of errors : 34146873.405271806\n",
      "Number of cluster : 11\n",
      "sum of squared estimate of errors : 29221403.567074303\n",
      "Number of cluster : 12\n",
      "sum of squared estimate of errors : 25090014.383663464\n",
      "Number of cluster : 13\n",
      "sum of squared estimate of errors : 22217643.232593387\n",
      "Number of cluster : 14\n",
      "sum of squared estimate of errors : 19855226.126682904\n",
      "Number of cluster : 15\n",
      "sum of squared estimate of errors : 17527201.520288568\n",
      "Number of cluster : 16\n",
      "sum of squared estimate of errors : 15526372.615035309\n",
      "Number of cluster : 17\n",
      "sum of squared estimate of errors : 13992573.695511092\n",
      "Number of cluster : 18\n",
      "sum of squared estimate of errors : 12982711.141669955\n",
      "Number of cluster : 19\n",
      "sum of squared estimate of errors : 11874403.858658379\n",
      "Number of cluster : 20\n",
      "sum of squared estimate of errors : 10902923.472012507\n",
      "Number of cluster : 21\n",
      "sum of squared estimate of errors : 10070493.415267777\n",
      "Number of cluster : 22\n",
      "sum of squared estimate of errors : 9446630.604561945\n",
      "Number of cluster : 23\n",
      "sum of squared estimate of errors : 8866473.379968708\n",
      "Number of cluster : 24\n",
      "sum of squared estimate of errors : 8312463.95941624\n",
      "Number of cluster : 25\n",
      "sum of squared estimate of errors : 7779247.485599956\n",
      "Number of cluster : 26\n",
      "sum of squared estimate of errors : 7380807.626946278\n",
      "Number of cluster : 27\n",
      "sum of squared estimate of errors : 6898823.221039336\n",
      "Number of cluster : 28\n",
      "sum of squared estimate of errors : 6629031.418630021\n",
      "Number of cluster : 29\n",
      "sum of squared estimate of errors : 6371111.85923778\n"
     ]
    },
    {
     "data": {
      "image/png": "[encoded data removed]",
      "text/plain": [
       "<Figure size 432x288 with 1 Axes>"
      ]
     },
     "metadata": {
      "needs_background": "light"
     },
     "output_type": "display_data"
    }
   ],
   "source": [
    "sse = {}\n",
    "for k in range(1, 30):\n",
    "    kmeans = KMeans(n_clusters=k, max_iter=1000,random_state=172).fit(RFM_df)\n",
    "    print('Number of cluster :',k)\n",
    "    sse[k] = kmeans.inertia_ \n",
    "    print('sum of squared estimate of errors :',sse[k])\n",
    "plt.figure()\n",
    "plt.plot(list(sse.keys()), list(sse.values()))\n",
    "plt.xlabel(\"Number of cluster\")\n",
    "plt.ylabel(\"SSE\")\n",
    "plt.show()"
   ]
  },
  {
   "cell_type": "code",
   "execution_count": 21,
   "metadata": {},
   "outputs": [
    {
     "name": "stdout",
     "output_type": "stream",
     "text": [
      "Cluster centers\n",
      "[[1073.67778609    4.41106956    0.07154177]\n",
      " [ 329.24618026   12.61453505   -0.06259136]\n",
      " [ 642.09049511    7.67561283   -0.06546251]]\n"
     ]
    }
   ],
   "source": [
    "kmeans1 = KMeans(n_clusters=3, max_iter=1000,random_state=172).fit(RFM_df)\n",
    "k1_lab = kmeans1.labels_\n",
    "k1_centers = kmeans1.cluster_centers_\n",
    "print('Cluster centers')\n",
    "print(k1_centers)\n"
   ]
  },
  {
   "cell_type": "markdown",
   "metadata": {},
   "source": [
    "## 2. K-means with normalized data"
   ]
  },
  {
   "cell_type": "code",
   "execution_count": 22,
   "metadata": {},
   "outputs": [
    {
     "data": {
      "text/html": [
       "<div>\n",
       "<style scoped>\n",
       "    .dataframe tbody tr th:only-of-type {\n",
       "        vertical-align: middle;\n",
       "    }\n",
       "\n",
       "    .dataframe tbody tr th {\n",
       "        vertical-align: top;\n",
       "    }\n",
       "\n",
       "    .dataframe thead th {\n",
       "        text-align: right;\n",
       "    }\n",
       "</style>\n",
       "<table border=\"1\" class=\"dataframe\">\n",
       "  <thead>\n",
       "    <tr style=\"text-align: right;\">\n",
       "      <th></th>\n",
       "      <th>R</th>\n",
       "      <th>F</th>\n",
       "      <th>M</th>\n",
       "    </tr>\n",
       "    <tr>\n",
       "      <th>Customer code</th>\n",
       "      <th></th>\n",
       "      <th></th>\n",
       "      <th></th>\n",
       "    </tr>\n",
       "  </thead>\n",
       "  <tbody>\n",
       "    <tr>\n",
       "      <th>2</th>\n",
       "      <td>-1.168261</td>\n",
       "      <td>121.319088</td>\n",
       "      <td>-0.243239</td>\n",
       "    </tr>\n",
       "    <tr>\n",
       "      <th>353</th>\n",
       "      <td>-1.111389</td>\n",
       "      <td>0.115278</td>\n",
       "      <td>0.275751</td>\n",
       "    </tr>\n",
       "    <tr>\n",
       "      <th>412</th>\n",
       "      <td>-0.756777</td>\n",
       "      <td>-0.677421</td>\n",
       "      <td>-0.161959</td>\n",
       "    </tr>\n",
       "    <tr>\n",
       "      <th>1067</th>\n",
       "      <td>2.203897</td>\n",
       "      <td>-0.518882</td>\n",
       "      <td>0.195691</td>\n",
       "    </tr>\n",
       "    <tr>\n",
       "      <th>1072</th>\n",
       "      <td>-0.472419</td>\n",
       "      <td>-0.518882</td>\n",
       "      <td>-0.261253</td>\n",
       "    </tr>\n",
       "    <tr>\n",
       "      <th>...</th>\n",
       "      <td>...</td>\n",
       "      <td>...</td>\n",
       "      <td>...</td>\n",
       "    </tr>\n",
       "    <tr>\n",
       "      <th>209788</th>\n",
       "      <td>-1.158225</td>\n",
       "      <td>-0.518882</td>\n",
       "      <td>-0.448721</td>\n",
       "    </tr>\n",
       "    <tr>\n",
       "      <th>209821</th>\n",
       "      <td>-1.171606</td>\n",
       "      <td>-0.598151</td>\n",
       "      <td>-0.407395</td>\n",
       "    </tr>\n",
       "    <tr>\n",
       "      <th>209850</th>\n",
       "      <td>-1.171606</td>\n",
       "      <td>-0.677421</td>\n",
       "      <td>0.013693</td>\n",
       "    </tr>\n",
       "    <tr>\n",
       "      <th>209851</th>\n",
       "      <td>0.005973</td>\n",
       "      <td>-0.677421</td>\n",
       "      <td>-0.056362</td>\n",
       "    </tr>\n",
       "    <tr>\n",
       "      <th>209973</th>\n",
       "      <td>-1.108044</td>\n",
       "      <td>-0.598151</td>\n",
       "      <td>-0.407384</td>\n",
       "    </tr>\n",
       "  </tbody>\n",
       "</table>\n",
       "<p>34481 rows × 3 columns</p>\n",
       "</div>"
      ],
      "text/plain": [
       "                      R           F         M\n",
       "Customer code                                \n",
       "2             -1.168261  121.319088 -0.243239\n",
       "353           -1.111389    0.115278  0.275751\n",
       "412           -0.756777   -0.677421 -0.161959\n",
       "1067           2.203897   -0.518882  0.195691\n",
       "1072          -0.472419   -0.518882 -0.261253\n",
       "...                 ...         ...       ...\n",
       "209788        -1.158225   -0.518882 -0.448721\n",
       "209821        -1.171606   -0.598151 -0.407395\n",
       "209850        -1.171606   -0.677421  0.013693\n",
       "209851         0.005973   -0.677421 -0.056362\n",
       "209973        -1.108044   -0.598151 -0.407384\n",
       "\n",
       "[34481 rows x 3 columns]"
      ]
     },
     "execution_count": 22,
     "metadata": {},
     "output_type": "execute_result"
    }
   ],
   "source": [
    "normalized_RFM_df=(RFM_df-RFM_df.mean())/RFM_df.std()\n",
    "normalized_RFM_df"
   ]
  },
  {
   "cell_type": "code",
   "execution_count": 23,
   "metadata": {},
   "outputs": [
    {
     "data": {
      "text/html": [
       "<div>\n",
       "<style scoped>\n",
       "    .dataframe tbody tr th:only-of-type {\n",
       "        vertical-align: middle;\n",
       "    }\n",
       "\n",
       "    .dataframe tbody tr th {\n",
       "        vertical-align: top;\n",
       "    }\n",
       "\n",
       "    .dataframe thead th {\n",
       "        text-align: right;\n",
       "    }\n",
       "</style>\n",
       "<table border=\"1\" class=\"dataframe\">\n",
       "  <thead>\n",
       "    <tr style=\"text-align: right;\">\n",
       "      <th></th>\n",
       "      <th>R</th>\n",
       "      <th>F</th>\n",
       "      <th>M</th>\n",
       "    </tr>\n",
       "  </thead>\n",
       "  <tbody>\n",
       "    <tr>\n",
       "      <th>count</th>\n",
       "      <td>3.448100e+04</td>\n",
       "      <td>3.448100e+04</td>\n",
       "      <td>3.448100e+04</td>\n",
       "    </tr>\n",
       "    <tr>\n",
       "      <th>mean</th>\n",
       "      <td>1.201215e-15</td>\n",
       "      <td>7.628402e-15</td>\n",
       "      <td>5.671745e-16</td>\n",
       "    </tr>\n",
       "    <tr>\n",
       "      <th>std</th>\n",
       "      <td>1.000000e+00</td>\n",
       "      <td>1.000000e+00</td>\n",
       "      <td>1.000000e+00</td>\n",
       "    </tr>\n",
       "    <tr>\n",
       "      <th>min</th>\n",
       "      <td>-1.171606e+00</td>\n",
       "      <td>-6.774215e-01</td>\n",
       "      <td>-2.454902e+00</td>\n",
       "    </tr>\n",
       "    <tr>\n",
       "      <th>25%</th>\n",
       "      <td>-8.303761e-01</td>\n",
       "      <td>-5.188815e-01</td>\n",
       "      <td>-3.457839e-01</td>\n",
       "    </tr>\n",
       "    <tr>\n",
       "      <th>50%</th>\n",
       "      <td>-2.917675e-01</td>\n",
       "      <td>-2.018016e-01</td>\n",
       "      <td>-1.853325e-01</td>\n",
       "    </tr>\n",
       "    <tr>\n",
       "      <th>75%</th>\n",
       "      <td>5.847259e-01</td>\n",
       "      <td>2.738184e-01</td>\n",
       "      <td>3.242556e-02</td>\n",
       "    </tr>\n",
       "    <tr>\n",
       "      <th>max</th>\n",
       "      <td>2.484910e+00</td>\n",
       "      <td>1.213191e+02</td>\n",
       "      <td>8.646207e+01</td>\n",
       "    </tr>\n",
       "  </tbody>\n",
       "</table>\n",
       "</div>"
      ],
      "text/plain": [
       "                  R             F             M\n",
       "count  3.448100e+04  3.448100e+04  3.448100e+04\n",
       "mean   1.201215e-15  7.628402e-15  5.671745e-16\n",
       "std    1.000000e+00  1.000000e+00  1.000000e+00\n",
       "min   -1.171606e+00 -6.774215e-01 -2.454902e+00\n",
       "25%   -8.303761e-01 -5.188815e-01 -3.457839e-01\n",
       "50%   -2.917675e-01 -2.018016e-01 -1.853325e-01\n",
       "75%    5.847259e-01  2.738184e-01  3.242556e-02\n",
       "max    2.484910e+00  1.213191e+02  8.646207e+01"
      ]
     },
     "execution_count": 23,
     "metadata": {},
     "output_type": "execute_result"
    }
   ],
   "source": [
    "normalized_RFM_df.describe()"
   ]
  },
  {
   "cell_type": "code",
   "execution_count": 24,
   "metadata": {},
   "outputs": [
    {
     "name": "stdout",
     "output_type": "stream",
     "text": [
      "Number of cluster : 1\n",
      "sum of squared estimate of errors : 103440.00000000923\n",
      "Number of cluster : 2\n",
      "sum of squared estimate of errors : 75843.41838415351\n",
      "Number of cluster : 3\n",
      "sum of squared estimate of errors : 59796.5497321772\n",
      "Number of cluster : 4\n",
      "sum of squared estimate of errors : 45122.82759313404\n",
      "Number of cluster : 5\n",
      "sum of squared estimate of errors : 35980.821725007976\n",
      "Number of cluster : 6\n",
      "sum of squared estimate of errors : 29430.205448782435\n",
      "Number of cluster : 7\n",
      "sum of squared estimate of errors : 24683.929743527413\n",
      "Number of cluster : 8\n",
      "sum of squared estimate of errors : 20854.733531993046\n",
      "Number of cluster : 9\n",
      "sum of squared estimate of errors : 18057.25973166431\n",
      "Number of cluster : 10\n",
      "sum of squared estimate of errors : 16285.324179522879\n",
      "Number of cluster : 11\n",
      "sum of squared estimate of errors : 14719.027630729097\n",
      "Number of cluster : 12\n",
      "sum of squared estimate of errors : 13459.832083759064\n",
      "Number of cluster : 13\n",
      "sum of squared estimate of errors : 12399.503816755416\n",
      "Number of cluster : 14\n",
      "sum of squared estimate of errors : 11522.405553249035\n",
      "Number of cluster : 15\n",
      "sum of squared estimate of errors : 10720.501824555115\n",
      "Number of cluster : 16\n",
      "sum of squared estimate of errors : 10049.852166294035\n",
      "Number of cluster : 17\n",
      "sum of squared estimate of errors : 9489.218012445936\n",
      "Number of cluster : 18\n",
      "sum of squared estimate of errors : 8986.866948846518\n",
      "Number of cluster : 19\n",
      "sum of squared estimate of errors : 8528.219288371449\n",
      "Number of cluster : 20\n",
      "sum of squared estimate of errors : 8218.856231266405\n",
      "Number of cluster : 21\n",
      "sum of squared estimate of errors : 7927.859205008264\n",
      "Number of cluster : 22\n",
      "sum of squared estimate of errors : 7659.972464004203\n",
      "Number of cluster : 23\n",
      "sum of squared estimate of errors : 7419.908109047311\n",
      "Number of cluster : 24\n",
      "sum of squared estimate of errors : 7108.473370670191\n",
      "Number of cluster : 25\n",
      "sum of squared estimate of errors : 6898.1162216977145\n",
      "Number of cluster : 26\n",
      "sum of squared estimate of errors : 6653.181476876237\n",
      "Number of cluster : 27\n",
      "sum of squared estimate of errors : 6420.940497007968\n",
      "Number of cluster : 28\n",
      "sum of squared estimate of errors : 6271.779967911709\n",
      "Number of cluster : 29\n",
      "sum of squared estimate of errors : 6144.6163777777065\n"
     ]
    },
    {
     "data": {
      "image/png": "[encoded data removed]",
      "text/plain": [
       "<Figure size 432x288 with 1 Axes>"
      ]
     },
     "metadata": {
      "needs_background": "light"
     },
     "output_type": "display_data"
    }
   ],
   "source": [
    "sse = {}\n",
    "for k in range(1, 30):\n",
    "    kmeans = KMeans(n_clusters=k, max_iter=1000,random_state=172).fit(normalized_RFM_df)\n",
    "    print('Number of cluster :',k)\n",
    "    sse[k] = kmeans.inertia_ \n",
    "    print('sum of squared estimate of errors :',sse[k])\n",
    "plt.figure()\n",
    "plt.plot(list(sse.keys()), list(sse.values()))\n",
    "plt.xlabel(\"Number of cluster\")\n",
    "plt.ylabel(\"SSE\")\n",
    "plt.show()"
   ]
  },
  {
   "cell_type": "code",
   "execution_count": 25,
   "metadata": {},
   "outputs": [
    {
     "name": "stdout",
     "output_type": "stream",
     "text": [
      "Cluster centers\n",
      "[[  1.72247421  -0.4320932   -0.08618688]\n",
      " [ -0.76250294  -0.09215548  -0.15888278]\n",
      " [  0.08196089   0.06171759   2.56678034]\n",
      " [ -1.16826094 121.31908783  -0.24323858]\n",
      " [ -0.75507118   1.46966439   0.05160871]\n",
      " [  0.30219689  -0.24189242  -0.18940105]\n",
      " [  0.40742001  -0.36034153  86.46206727]\n",
      " [  0.59770089  -0.20442929   8.34514775]]\n"
     ]
    }
   ],
   "source": [
    "kmeans2 = KMeans(n_clusters=8, max_iter=1000,random_state=172).fit(normalized_RFM_df)\n",
    "k2_lab = kmeans2.labels_\n",
    "k2_centers = kmeans2.cluster_centers_\n",
    "print('Cluster centers')\n",
    "print(k2_centers)\n",
    "\n",
    "#normalized_RFM_df['label']=k2_lab "
   ]
  },
  {
   "cell_type": "markdown",
   "metadata": {},
   "source": [
    "## K-means with remove Outliers "
   ]
  },
  {
   "cell_type": "code",
   "execution_count": 26,
   "metadata": {},
   "outputs": [
    {
     "name": "stdout",
     "output_type": "stream",
     "text": [
      "For R\n",
      "5% quantile: 235.0 | 95% quantile: 1181.0\n",
      "===========\n",
      "For F\n",
      "5% quantile: 2.0 | 95% quantile: 26.0\n",
      "===========\n",
      "For M\n",
      "5% quantile: -0.6380807320984321 | 95% quantile: 1.1315007359390112\n"
     ]
    }
   ],
   "source": [
    "print('For R')\n",
    "print('5% quantile:',RFM_df['R'].quantile(0.05),'|','95% quantile:',RFM_df['R'].quantile(0.95))\n",
    "print('===========')\n",
    "print('For F')\n",
    "print('5% quantile:',RFM_df['F'].quantile(0.05),'|','95% quantile:',RFM_df['F'].quantile(0.95))\n",
    "print('===========')\n",
    "print('For M')\n",
    "print('5% quantile:',RFM_df['M'].quantile(0.05),'|','95% quantile:',RFM_df['M'].quantile(0.95))"
   ]
  },
  {
   "cell_type": "code",
   "execution_count": 27,
   "metadata": {},
   "outputs": [
    {
     "data": {
      "text/plain": [
       "True     31081\n",
       "False     3400\n",
       "Name: R, dtype: int64"
      ]
     },
     "execution_count": 27,
     "metadata": {},
     "output_type": "execute_result"
    }
   ],
   "source": [
    "R_in=((RFM_df['R']>=RFM_df['R'].quantile(0.05)) & (RFM_df['R']<=RFM_df['R'].quantile(0.95)))\n",
    "R_in.value_counts()"
   ]
  },
  {
   "cell_type": "code",
   "execution_count": 28,
   "metadata": {},
   "outputs": [
    {
     "data": {
      "text/plain": [
       "True     31594\n",
       "False     2887\n",
       "Name: F, dtype: int64"
      ]
     },
     "execution_count": 28,
     "metadata": {},
     "output_type": "execute_result"
    }
   ],
   "source": [
    "F_in=((RFM_df['F']>=RFM_df['F'].quantile(0.05)) & (RFM_df['F']<=RFM_df['F'].quantile(0.95)))\n",
    "F_in.value_counts()"
   ]
  },
  {
   "cell_type": "code",
   "execution_count": 29,
   "metadata": {},
   "outputs": [
    {
     "data": {
      "text/plain": [
       "True     31033\n",
       "False     3448\n",
       "Name: M, dtype: int64"
      ]
     },
     "execution_count": 29,
     "metadata": {},
     "output_type": "execute_result"
    }
   ],
   "source": [
    "M_in=((RFM_df['M']>=RFM_df['M'].quantile(0.05)) & (RFM_df['M']<=RFM_df['M'].quantile(0.95)))\n",
    "M_in.value_counts()"
   ]
  },
  {
   "cell_type": "code",
   "execution_count": 30,
   "metadata": {},
   "outputs": [
    {
     "data": {
      "text/plain": [
       "True     25708\n",
       "False     8773\n",
       "dtype: int64"
      ]
     },
     "execution_count": 30,
     "metadata": {},
     "output_type": "execute_result"
    }
   ],
   "source": [
    "in_row = (R_in & F_in & M_in)\n",
    "in_row.value_counts()"
   ]
  },
  {
   "cell_type": "code",
   "execution_count": 31,
   "metadata": {},
   "outputs": [
    {
     "data": {
      "text/html": [
       "<div>\n",
       "<style scoped>\n",
       "    .dataframe tbody tr th:only-of-type {\n",
       "        vertical-align: middle;\n",
       "    }\n",
       "\n",
       "    .dataframe tbody tr th {\n",
       "        vertical-align: top;\n",
       "    }\n",
       "\n",
       "    .dataframe thead th {\n",
       "        text-align: right;\n",
       "    }\n",
       "</style>\n",
       "<table border=\"1\" class=\"dataframe\">\n",
       "  <thead>\n",
       "    <tr style=\"text-align: right;\">\n",
       "      <th></th>\n",
       "      <th>R</th>\n",
       "      <th>F</th>\n",
       "      <th>M</th>\n",
       "    </tr>\n",
       "    <tr>\n",
       "      <th>Customer code</th>\n",
       "      <th></th>\n",
       "      <th></th>\n",
       "      <th></th>\n",
       "    </tr>\n",
       "  </thead>\n",
       "  <tbody>\n",
       "    <tr>\n",
       "      <th>353</th>\n",
       "      <td>235</td>\n",
       "      <td>11</td>\n",
       "      <td>0.274576</td>\n",
       "    </tr>\n",
       "    <tr>\n",
       "      <th>1072</th>\n",
       "      <td>426</td>\n",
       "      <td>3</td>\n",
       "      <td>-0.333062</td>\n",
       "    </tr>\n",
       "    <tr>\n",
       "      <th>1076</th>\n",
       "      <td>246</td>\n",
       "      <td>2</td>\n",
       "      <td>-0.230930</td>\n",
       "    </tr>\n",
       "    <tr>\n",
       "      <th>1080</th>\n",
       "      <td>356</td>\n",
       "      <td>23</td>\n",
       "      <td>-0.085600</td>\n",
       "    </tr>\n",
       "    <tr>\n",
       "      <th>1091</th>\n",
       "      <td>333</td>\n",
       "      <td>11</td>\n",
       "      <td>-0.510055</td>\n",
       "    </tr>\n",
       "    <tr>\n",
       "      <th>...</th>\n",
       "      <td>...</td>\n",
       "      <td>...</td>\n",
       "      <td>...</td>\n",
       "    </tr>\n",
       "    <tr>\n",
       "      <th>209426</th>\n",
       "      <td>235</td>\n",
       "      <td>4</td>\n",
       "      <td>0.006452</td>\n",
       "    </tr>\n",
       "    <tr>\n",
       "      <th>209443</th>\n",
       "      <td>237</td>\n",
       "      <td>2</td>\n",
       "      <td>-0.498428</td>\n",
       "    </tr>\n",
       "    <tr>\n",
       "      <th>209454</th>\n",
       "      <td>237</td>\n",
       "      <td>2</td>\n",
       "      <td>-0.498428</td>\n",
       "    </tr>\n",
       "    <tr>\n",
       "      <th>209485</th>\n",
       "      <td>235</td>\n",
       "      <td>2</td>\n",
       "      <td>-0.489801</td>\n",
       "    </tr>\n",
       "    <tr>\n",
       "      <th>209973</th>\n",
       "      <td>236</td>\n",
       "      <td>2</td>\n",
       "      <td>-0.498416</td>\n",
       "    </tr>\n",
       "  </tbody>\n",
       "</table>\n",
       "<p>25708 rows × 3 columns</p>\n",
       "</div>"
      ],
      "text/plain": [
       "                 R   F         M\n",
       "Customer code                   \n",
       "353            235  11  0.274576\n",
       "1072           426   3 -0.333062\n",
       "1076           246   2 -0.230930\n",
       "1080           356  23 -0.085600\n",
       "1091           333  11 -0.510055\n",
       "...            ...  ..       ...\n",
       "209426         235   4  0.006452\n",
       "209443         237   2 -0.498428\n",
       "209454         237   2 -0.498428\n",
       "209485         235   2 -0.489801\n",
       "209973         236   2 -0.498416\n",
       "\n",
       "[25708 rows x 3 columns]"
      ]
     },
     "execution_count": 31,
     "metadata": {},
     "output_type": "execute_result"
    }
   ],
   "source": [
    "ro_RFM_df = RFM_df[in_row]\n",
    "ro_RFM_df"
   ]
  },
  {
   "cell_type": "code",
   "execution_count": 32,
   "metadata": {},
   "outputs": [
    {
     "data": {
      "text/html": [
       "<div>\n",
       "<style scoped>\n",
       "    .dataframe tbody tr th:only-of-type {\n",
       "        vertical-align: middle;\n",
       "    }\n",
       "\n",
       "    .dataframe tbody tr th {\n",
       "        vertical-align: top;\n",
       "    }\n",
       "\n",
       "    .dataframe thead th {\n",
       "        text-align: right;\n",
       "    }\n",
       "</style>\n",
       "<table border=\"1\" class=\"dataframe\">\n",
       "  <thead>\n",
       "    <tr style=\"text-align: right;\">\n",
       "      <th></th>\n",
       "      <th>R</th>\n",
       "      <th>F</th>\n",
       "      <th>M</th>\n",
       "    </tr>\n",
       "  </thead>\n",
       "  <tbody>\n",
       "    <tr>\n",
       "      <th>count</th>\n",
       "      <td>25708.000000</td>\n",
       "      <td>25708.000000</td>\n",
       "      <td>25708.000000</td>\n",
       "    </tr>\n",
       "    <tr>\n",
       "      <th>mean</th>\n",
       "      <td>553.076863</td>\n",
       "      <td>8.518243</td>\n",
       "      <td>-0.187891</td>\n",
       "    </tr>\n",
       "    <tr>\n",
       "      <th>std</th>\n",
       "      <td>256.531568</td>\n",
       "      <td>5.987463</td>\n",
       "      <td>0.328267</td>\n",
       "    </tr>\n",
       "    <tr>\n",
       "      <th>min</th>\n",
       "      <td>235.000000</td>\n",
       "      <td>2.000000</td>\n",
       "      <td>-0.638081</td>\n",
       "    </tr>\n",
       "    <tr>\n",
       "      <th>25%</th>\n",
       "      <td>339.000000</td>\n",
       "      <td>3.000000</td>\n",
       "      <td>-0.421870</td>\n",
       "    </tr>\n",
       "    <tr>\n",
       "      <th>50%</th>\n",
       "      <td>490.000000</td>\n",
       "      <td>7.000000</td>\n",
       "      <td>-0.265242</td>\n",
       "    </tr>\n",
       "    <tr>\n",
       "      <th>75%</th>\n",
       "      <td>706.000000</td>\n",
       "      <td>12.000000</td>\n",
       "      <td>-0.065914</td>\n",
       "    </tr>\n",
       "    <tr>\n",
       "      <th>max</th>\n",
       "      <td>1181.000000</td>\n",
       "      <td>26.000000</td>\n",
       "      <td>1.131501</td>\n",
       "    </tr>\n",
       "  </tbody>\n",
       "</table>\n",
       "</div>"
      ],
      "text/plain": [
       "                  R             F             M\n",
       "count  25708.000000  25708.000000  25708.000000\n",
       "mean     553.076863      8.518243     -0.187891\n",
       "std      256.531568      5.987463      0.328267\n",
       "min      235.000000      2.000000     -0.638081\n",
       "25%      339.000000      3.000000     -0.421870\n",
       "50%      490.000000      7.000000     -0.265242\n",
       "75%      706.000000     12.000000     -0.065914\n",
       "max     1181.000000     26.000000      1.131501"
      ]
     },
     "execution_count": 32,
     "metadata": {},
     "output_type": "execute_result"
    }
   ],
   "source": [
    "ro_RFM_df.describe()"
   ]
  },
  {
   "cell_type": "code",
   "execution_count": 33,
   "metadata": {},
   "outputs": [
    {
     "name": "stdout",
     "output_type": "stream",
     "text": [
      "Number of cluster : 1\n",
      "sum of squared estimate of errors : 1692662068.7216492\n",
      "Number of cluster : 2\n",
      "sum of squared estimate of errors : 463069978.021821\n",
      "Number of cluster : 3\n",
      "sum of squared estimate of errors : 181837527.88410926\n",
      "Number of cluster : 4\n",
      "sum of squared estimate of errors : 109631150.24795616\n",
      "Number of cluster : 5\n",
      "sum of squared estimate of errors : 67700138.13577472\n",
      "Number of cluster : 6\n",
      "sum of squared estimate of errors : 48683165.81446357\n",
      "Number of cluster : 7\n",
      "sum of squared estimate of errors : 35032735.060611725\n",
      "Number of cluster : 8\n",
      "sum of squared estimate of errors : 27497925.369534355\n",
      "Number of cluster : 9\n",
      "sum of squared estimate of errors : 21347475.957059737\n",
      "Number of cluster : 10\n",
      "sum of squared estimate of errors : 17405950.19322657\n",
      "Number of cluster : 11\n",
      "sum of squared estimate of errors : 14773959.294199608\n",
      "Number of cluster : 12\n",
      "sum of squared estimate of errors : 12453703.633191006\n",
      "Number of cluster : 13\n",
      "sum of squared estimate of errors : 10710620.749710336\n",
      "Number of cluster : 14\n",
      "sum of squared estimate of errors : 9390918.957022894\n",
      "Number of cluster : 15\n",
      "sum of squared estimate of errors : 8283335.956695177\n",
      "Number of cluster : 16\n",
      "sum of squared estimate of errors : 7382783.27959269\n",
      "Number of cluster : 17\n",
      "sum of squared estimate of errors : 6627924.167212832\n",
      "Number of cluster : 18\n",
      "sum of squared estimate of errors : 6022774.555629164\n",
      "Number of cluster : 19\n",
      "sum of squared estimate of errors : 5420435.057403384\n",
      "Number of cluster : 20\n",
      "sum of squared estimate of errors : 4905274.802526246\n",
      "Number of cluster : 21\n",
      "sum of squared estimate of errors : 4518213.573940126\n",
      "Number of cluster : 22\n",
      "sum of squared estimate of errors : 4171391.195977165\n",
      "Number of cluster : 23\n",
      "sum of squared estimate of errors : 3842382.311593122\n",
      "Number of cluster : 24\n",
      "sum of squared estimate of errors : 3520055.2010835377\n",
      "Number of cluster : 25\n",
      "sum of squared estimate of errors : 3303769.276647267\n",
      "Number of cluster : 26\n",
      "sum of squared estimate of errors : 3112315.8367272094\n",
      "Number of cluster : 27\n",
      "sum of squared estimate of errors : 2979934.710290164\n",
      "Number of cluster : 28\n",
      "sum of squared estimate of errors : 2865527.3213810227\n",
      "Number of cluster : 29\n",
      "sum of squared estimate of errors : 2752344.8199799424\n"
     ]
    },
    {
     "data": {
      "image/png": "[encoded data removed]",
      "text/plain": [
       "<Figure size 432x288 with 1 Axes>"
      ]
     },
     "metadata": {
      "needs_background": "light"
     },
     "output_type": "display_data"
    }
   ],
   "source": [
    "sse = {}\n",
    "for k in range(1, 30):\n",
    "    kmeans = KMeans(n_clusters=k, max_iter=1000,random_state=172).fit(ro_RFM_df)\n",
    "    print('Number of cluster :',k)\n",
    "    sse[k] = kmeans.inertia_ \n",
    "    print('sum of squared estimate of errors :',sse[k])\n",
    "plt.figure()\n",
    "plt.plot(list(sse.keys()), list(sse.values()))\n",
    "plt.xlabel(\"Number of cluster\")\n",
    "plt.ylabel(\"SSE\")\n",
    "plt.show()"
   ]
  },
  {
   "cell_type": "code",
   "execution_count": 34,
   "metadata": {},
   "outputs": [
    {
     "name": "stdout",
     "output_type": "stream",
     "text": [
      "Cluster centers\n",
      "[[989.23257288   5.09505703  -0.13926669]\n",
      " [627.81512503   7.48397669  -0.22164418]\n",
      " [342.61400754  10.45964196  -0.18413163]]\n"
     ]
    }
   ],
   "source": [
    "kmeans3 = KMeans(n_clusters=3, max_iter=1000,random_state=172).fit(ro_RFM_df)\n",
    "\n",
    "k3_lab = kmeans3.labels_\n",
    "k3_centers = kmeans3.cluster_centers_\n",
    "print('Cluster centers')\n",
    "print(k3_centers)"
   ]
  },
  {
   "cell_type": "markdown",
   "metadata": {},
   "source": [
    "## K-means with remove Outliers and normalized"
   ]
  },
  {
   "cell_type": "code",
   "execution_count": 35,
   "metadata": {},
   "outputs": [
    {
     "data": {
      "text/html": [
       "<div>\n",
       "<style scoped>\n",
       "    .dataframe tbody tr th:only-of-type {\n",
       "        vertical-align: middle;\n",
       "    }\n",
       "\n",
       "    .dataframe tbody tr th {\n",
       "        vertical-align: top;\n",
       "    }\n",
       "\n",
       "    .dataframe thead th {\n",
       "        text-align: right;\n",
       "    }\n",
       "</style>\n",
       "<table border=\"1\" class=\"dataframe\">\n",
       "  <thead>\n",
       "    <tr style=\"text-align: right;\">\n",
       "      <th></th>\n",
       "      <th>R</th>\n",
       "      <th>F</th>\n",
       "      <th>M</th>\n",
       "    </tr>\n",
       "    <tr>\n",
       "      <th>Customer code</th>\n",
       "      <th></th>\n",
       "      <th></th>\n",
       "      <th></th>\n",
       "    </tr>\n",
       "  </thead>\n",
       "  <tbody>\n",
       "    <tr>\n",
       "      <th>353</th>\n",
       "      <td>-1.239913</td>\n",
       "      <td>0.414492</td>\n",
       "      <td>1.408815</td>\n",
       "    </tr>\n",
       "    <tr>\n",
       "      <th>1072</th>\n",
       "      <td>-0.495365</td>\n",
       "      <td>-0.921633</td>\n",
       "      <td>-0.442237</td>\n",
       "    </tr>\n",
       "    <tr>\n",
       "      <th>1076</th>\n",
       "      <td>-1.197033</td>\n",
       "      <td>-1.088649</td>\n",
       "      <td>-0.131112</td>\n",
       "    </tr>\n",
       "    <tr>\n",
       "      <th>1080</th>\n",
       "      <td>-0.768236</td>\n",
       "      <td>2.418680</td>\n",
       "      <td>0.311608</td>\n",
       "    </tr>\n",
       "    <tr>\n",
       "      <th>1091</th>\n",
       "      <td>-0.857894</td>\n",
       "      <td>0.414492</td>\n",
       "      <td>-0.981412</td>\n",
       "    </tr>\n",
       "    <tr>\n",
       "      <th>...</th>\n",
       "      <td>...</td>\n",
       "      <td>...</td>\n",
       "      <td>...</td>\n",
       "    </tr>\n",
       "    <tr>\n",
       "      <th>209426</th>\n",
       "      <td>-1.239913</td>\n",
       "      <td>-0.754617</td>\n",
       "      <td>0.592026</td>\n",
       "    </tr>\n",
       "    <tr>\n",
       "      <th>209443</th>\n",
       "      <td>-1.232117</td>\n",
       "      <td>-1.088649</td>\n",
       "      <td>-0.945991</td>\n",
       "    </tr>\n",
       "    <tr>\n",
       "      <th>209454</th>\n",
       "      <td>-1.232117</td>\n",
       "      <td>-1.088649</td>\n",
       "      <td>-0.945991</td>\n",
       "    </tr>\n",
       "    <tr>\n",
       "      <th>209485</th>\n",
       "      <td>-1.239913</td>\n",
       "      <td>-1.088649</td>\n",
       "      <td>-0.919712</td>\n",
       "    </tr>\n",
       "    <tr>\n",
       "      <th>209973</th>\n",
       "      <td>-1.236015</td>\n",
       "      <td>-1.088649</td>\n",
       "      <td>-0.945954</td>\n",
       "    </tr>\n",
       "  </tbody>\n",
       "</table>\n",
       "<p>25708 rows × 3 columns</p>\n",
       "</div>"
      ],
      "text/plain": [
       "                      R         F         M\n",
       "Customer code                              \n",
       "353           -1.239913  0.414492  1.408815\n",
       "1072          -0.495365 -0.921633 -0.442237\n",
       "1076          -1.197033 -1.088649 -0.131112\n",
       "1080          -0.768236  2.418680  0.311608\n",
       "1091          -0.857894  0.414492 -0.981412\n",
       "...                 ...       ...       ...\n",
       "209426        -1.239913 -0.754617  0.592026\n",
       "209443        -1.232117 -1.088649 -0.945991\n",
       "209454        -1.232117 -1.088649 -0.945991\n",
       "209485        -1.239913 -1.088649 -0.919712\n",
       "209973        -1.236015 -1.088649 -0.945954\n",
       "\n",
       "[25708 rows x 3 columns]"
      ]
     },
     "execution_count": 35,
     "metadata": {},
     "output_type": "execute_result"
    }
   ],
   "source": [
    "normalized_ro_RFM_df=((ro_RFM_df-ro_RFM_df.mean())/ro_RFM_df.std())\n",
    "normalized_ro_RFM_df"
   ]
  },
  {
   "cell_type": "code",
   "execution_count": 36,
   "metadata": {},
   "outputs": [
    {
     "data": {
      "text/html": [
       "<div>\n",
       "<style scoped>\n",
       "    .dataframe tbody tr th:only-of-type {\n",
       "        vertical-align: middle;\n",
       "    }\n",
       "\n",
       "    .dataframe tbody tr th {\n",
       "        vertical-align: top;\n",
       "    }\n",
       "\n",
       "    .dataframe thead th {\n",
       "        text-align: right;\n",
       "    }\n",
       "</style>\n",
       "<table border=\"1\" class=\"dataframe\">\n",
       "  <thead>\n",
       "    <tr style=\"text-align: right;\">\n",
       "      <th></th>\n",
       "      <th>R</th>\n",
       "      <th>F</th>\n",
       "      <th>M</th>\n",
       "    </tr>\n",
       "  </thead>\n",
       "  <tbody>\n",
       "    <tr>\n",
       "      <th>count</th>\n",
       "      <td>2.570800e+04</td>\n",
       "      <td>2.570800e+04</td>\n",
       "      <td>2.570800e+04</td>\n",
       "    </tr>\n",
       "    <tr>\n",
       "      <th>mean</th>\n",
       "      <td>-4.151400e-15</td>\n",
       "      <td>2.647969e-15</td>\n",
       "      <td>8.528010e-15</td>\n",
       "    </tr>\n",
       "    <tr>\n",
       "      <th>std</th>\n",
       "      <td>1.000000e+00</td>\n",
       "      <td>1.000000e+00</td>\n",
       "      <td>1.000000e+00</td>\n",
       "    </tr>\n",
       "    <tr>\n",
       "      <th>min</th>\n",
       "      <td>-1.239913e+00</td>\n",
       "      <td>-1.088649e+00</td>\n",
       "      <td>-1.371416e+00</td>\n",
       "    </tr>\n",
       "    <tr>\n",
       "      <th>25%</th>\n",
       "      <td>-8.345049e-01</td>\n",
       "      <td>-9.216330e-01</td>\n",
       "      <td>-7.127717e-01</td>\n",
       "    </tr>\n",
       "    <tr>\n",
       "      <th>50%</th>\n",
       "      <td>-2.458834e-01</td>\n",
       "      <td>-2.535704e-01</td>\n",
       "      <td>-2.356346e-01</td>\n",
       "    </tr>\n",
       "    <tr>\n",
       "      <th>75%</th>\n",
       "      <td>5.961182e-01</td>\n",
       "      <td>5.815079e-01</td>\n",
       "      <td>3.715784e-01</td>\n",
       "    </tr>\n",
       "    <tr>\n",
       "      <th>max</th>\n",
       "      <td>2.447742e+00</td>\n",
       "      <td>2.919727e+00</td>\n",
       "      <td>4.019268e+00</td>\n",
       "    </tr>\n",
       "  </tbody>\n",
       "</table>\n",
       "</div>"
      ],
      "text/plain": [
       "                  R             F             M\n",
       "count  2.570800e+04  2.570800e+04  2.570800e+04\n",
       "mean  -4.151400e-15  2.647969e-15  8.528010e-15\n",
       "std    1.000000e+00  1.000000e+00  1.000000e+00\n",
       "min   -1.239913e+00 -1.088649e+00 -1.371416e+00\n",
       "25%   -8.345049e-01 -9.216330e-01 -7.127717e-01\n",
       "50%   -2.458834e-01 -2.535704e-01 -2.356346e-01\n",
       "75%    5.961182e-01  5.815079e-01  3.715784e-01\n",
       "max    2.447742e+00  2.919727e+00  4.019268e+00"
      ]
     },
     "execution_count": 36,
     "metadata": {},
     "output_type": "execute_result"
    }
   ],
   "source": [
    "normalized_ro_RFM_df.describe()"
   ]
  },
  {
   "cell_type": "code",
   "execution_count": 37,
   "metadata": {},
   "outputs": [
    {
     "name": "stdout",
     "output_type": "stream",
     "text": [
      "Number of cluster : 1\n",
      "sum of squared estimate of errors : 77120.99999999639\n",
      "Number of cluster : 2\n",
      "sum of squared estimate of errors : 53459.12659243578\n",
      "Number of cluster : 3\n",
      "sum of squared estimate of errors : 38994.66493591178\n",
      "Number of cluster : 4\n",
      "sum of squared estimate of errors : 28579.043531598363\n",
      "Number of cluster : 5\n",
      "sum of squared estimate of errors : 25040.78860851859\n",
      "Number of cluster : 6\n",
      "sum of squared estimate of errors : 22381.068109618307\n",
      "Number of cluster : 7\n",
      "sum of squared estimate of errors : 19914.141666528136\n",
      "Number of cluster : 8\n",
      "sum of squared estimate of errors : 17800.371213192237\n",
      "Number of cluster : 9\n",
      "sum of squared estimate of errors : 16355.475563879156\n",
      "Number of cluster : 10\n",
      "sum of squared estimate of errors : 15138.704708484236\n",
      "Number of cluster : 11\n",
      "sum of squared estimate of errors : 14216.70746744239\n",
      "Number of cluster : 12\n",
      "sum of squared estimate of errors : 13461.668163027582\n",
      "Number of cluster : 13\n",
      "sum of squared estimate of errors : 12713.201975149766\n",
      "Number of cluster : 14\n",
      "sum of squared estimate of errors : 12075.635712929126\n",
      "Number of cluster : 15\n",
      "sum of squared estimate of errors : 11533.753466115473\n",
      "Number of cluster : 16\n",
      "sum of squared estimate of errors : 11070.104499111409\n",
      "Number of cluster : 17\n",
      "sum of squared estimate of errors : 10620.345391576278\n",
      "Number of cluster : 18\n",
      "sum of squared estimate of errors : 10236.41436475701\n",
      "Number of cluster : 19\n",
      "sum of squared estimate of errors : 9869.319848203924\n",
      "Number of cluster : 20\n",
      "sum of squared estimate of errors : 9534.425668294647\n",
      "Number of cluster : 21\n",
      "sum of squared estimate of errors : 9227.095568694103\n",
      "Number of cluster : 22\n",
      "sum of squared estimate of errors : 8966.42990827053\n",
      "Number of cluster : 23\n",
      "sum of squared estimate of errors : 8636.450710681058\n",
      "Number of cluster : 24\n",
      "sum of squared estimate of errors : 8391.472108793381\n",
      "Number of cluster : 25\n",
      "sum of squared estimate of errors : 8175.6091275948575\n",
      "Number of cluster : 26\n",
      "sum of squared estimate of errors : 7937.380637639187\n",
      "Number of cluster : 27\n",
      "sum of squared estimate of errors : 7712.127743216198\n",
      "Number of cluster : 28\n",
      "sum of squared estimate of errors : 7551.722558593537\n",
      "Number of cluster : 29\n",
      "sum of squared estimate of errors : 7340.663992171635\n"
     ]
    },
    {
     "data": {
      "image/png": "[encoded data removed]",
      "text/plain": [
       "<Figure size 432x288 with 1 Axes>"
      ]
     },
     "metadata": {
      "needs_background": "light"
     },
     "output_type": "display_data"
    }
   ],
   "source": [
    "sse = {}\n",
    "for k in range(1, 30):\n",
    "    kmeans = KMeans(n_clusters=k, max_iter=1000,random_state=172).fit(normalized_ro_RFM_df)\n",
    "    #normalized_RFM_df[\"clusters\"] = kmeans.labels_\n",
    "    print('Number of cluster :',k)\n",
    "    sse[k] = kmeans.inertia_ # Inertia: Sum of distances of samples to their closest cluster center\n",
    "    print('sum of squared estimate of errors :',sse[k])\n",
    "plt.figure()\n",
    "plt.plot(list(sse.keys()), list(sse.values()))\n",
    "plt.xlabel(\"Number of cluster\")\n",
    "plt.ylabel(\"SSE\")\n",
    "plt.show()"
   ]
  },
  {
   "cell_type": "code",
   "execution_count": 38,
   "metadata": {},
   "outputs": [
    {
     "name": "stdout",
     "output_type": "stream",
     "text": [
      "Cluster centers\n",
      "[[ 1.43181376 -0.63481642 -0.15543177]\n",
      " [-0.43297717 -0.49222626 -0.43017127]\n",
      " [-0.08690648  0.29651996  2.11338014]\n",
      " [-0.60421756  1.36919812 -0.12705205]]\n"
     ]
    }
   ],
   "source": [
    "kmeans4 = KMeans(n_clusters=4, max_iter=1000,random_state=172).fit(normalized_ro_RFM_df)\n",
    "\n",
    "k4_lab = kmeans4.labels_\n",
    "k4_centers = kmeans4.cluster_centers_\n",
    "print('Cluster centers')\n",
    "print(k4_centers)\n"
   ]
  },
  {
   "cell_type": "markdown",
   "metadata": {},
   "source": [
    "# Summary"
   ]
  },
  {
   "cell_type": "markdown",
   "metadata": {},
   "source": [
    "## K-means"
   ]
  },
  {
   "cell_type": "code",
   "execution_count": 39,
   "metadata": {},
   "outputs": [
    {
     "name": "stdout",
     "output_type": "stream",
     "text": [
      "Mean of RFM:\n",
      "R    567.214669\n",
      "F      9.545750\n",
      "M     -0.037446\n",
      "dtype: float64 \n",
      "\n",
      "Cluster centers:\n",
      "[[1073.67778609    4.41106956    0.07154177]\n",
      " [ 329.24618026   12.61453505   -0.06259136]\n",
      " [ 642.09049511    7.67561283   -0.06546251]] \n",
      "\n",
      "RFM Data with labels\n",
      "                  R     F         M  labels\n",
      "Customer code                              \n",
      "2               218  1540 -0.312679       1\n",
      "353             235    11  0.274576       1\n",
      "412             341     1 -0.220708       1\n",
      "1067           1226     3  0.183986       0\n",
      "1072            426     3 -0.333062       1\n",
      "...             ...   ...       ...     ...\n",
      "209788          221     3 -0.545189       1\n",
      "209821          217     2 -0.498428       1\n",
      "209850          217     1 -0.021952       1\n",
      "209851          569     1 -0.101221       2\n",
      "209973          236     2 -0.498416       1\n",
      "\n",
      "[34481 rows x 4 columns]\n"
     ]
    }
   ],
   "source": [
    "print('Mean of RFM:')\n",
    "print(RFM_df.mean(),'\\n')\n",
    "print('Cluster centers:')\n",
    "print(k1_centers,'\\n')\n",
    "print('RFM Data with labels')\n",
    "RFM_Kmeans=RFM_df.copy()\n",
    "RFM_Kmeans['labels']=k1_lab\n",
    "print(RFM_Kmeans)\n",
    "RFM_Kmeans.to_csv(os.path.join(root,'RFM_Kmeans.csv'),index=True)"
   ]
  },
  {
   "cell_type": "markdown",
   "metadata": {},
   "source": [
    "## K-means with normalized data"
   ]
  },
  {
   "cell_type": "code",
   "execution_count": 40,
   "metadata": {},
   "outputs": [
    {
     "name": "stdout",
     "output_type": "stream",
     "text": [
      "Mean of RFM:\n",
      "R    1.201215e-15\n",
      "F    7.628402e-15\n",
      "M    5.671745e-16\n",
      "dtype: float64 \n",
      "\n",
      "Cluster centers:\n",
      "[[  1.72247421  -0.4320932   -0.08618688]\n",
      " [ -0.76250294  -0.09215548  -0.15888278]\n",
      " [  0.08196089   0.06171759   2.56678034]\n",
      " [ -1.16826094 121.31908783  -0.24323858]\n",
      " [ -0.75507118   1.46966439   0.05160871]\n",
      " [  0.30219689  -0.24189242  -0.18940105]\n",
      " [  0.40742001  -0.36034153  86.46206727]\n",
      " [  0.59770089  -0.20442929   8.34514775]]\n"
     ]
    }
   ],
   "source": [
    "print('Mean of RFM:')\n",
    "print(normalized_RFM_df.mean(), '\\n')\n",
    "print('Cluster centers:')\n",
    "print(k2_centers)"
   ]
  },
  {
   "cell_type": "code",
   "execution_count": 41,
   "metadata": {},
   "outputs": [
    {
     "name": "stdout",
     "output_type": "stream",
     "text": [
      "Denormalized Mean of RFM:\n",
      "R    567.214669\n",
      "F      9.545750\n",
      "M     -0.037446\n",
      "dtype: float64 \n",
      "\n",
      "Denormalized Cluster centers:\n",
      "[[1082.0938716     4.09484436   -0.13496922]\n",
      " [ 339.28852293    8.38319791   -0.2172272 ]\n",
      " [ 591.71428571   10.32432432    2.86695697]\n",
      " [ 218.         1540.           -0.31267877]\n",
      " [ 341.51001466   28.08573522    0.02095136]\n",
      " [ 657.546875      6.49424913   -0.2517597 ]\n",
      " [ 689.            5.           97.79743996]\n",
      " [ 745.87845304    6.96685083    9.40538398]] \n",
      "\n",
      "RFM Data with labels\n",
      "                  R     F         M  labels\n",
      "Customer code                              \n",
      "2               218  1540 -0.312679       3\n",
      "353             235    11  0.274576       1\n",
      "412             341     1 -0.220708       1\n",
      "1067           1226     3  0.183986       0\n",
      "1072            426     3 -0.333062       1\n",
      "...             ...   ...       ...     ...\n",
      "209788          221     3 -0.545189       1\n",
      "209821          217     2 -0.498428       1\n",
      "209850          217     1 -0.021952       1\n",
      "209851          569     1 -0.101221       5\n",
      "209973          236     2 -0.498416       1\n",
      "\n",
      "[34481 rows x 4 columns]\n"
     ]
    }
   ],
   "source": [
    "print('Denormalized Mean of RFM:')\n",
    "print(RFM_df.mean(),'\\n')\n",
    "print('Denormalized Cluster centers:')\n",
    "print(k2_centers*RFM_df.std().to_numpy()+RFM_df.mean().to_numpy(),'\\n')\n",
    "print('RFM Data with labels')\n",
    "RFM_Kmeans_nor=RFM_df.copy()\n",
    "RFM_Kmeans_nor['labels']=k2_lab\n",
    "print(RFM_Kmeans_nor)\n",
    "RFM_Kmeans_nor.to_csv(os.path.join(root,'RFM_Kmeans_nor.csv'),index=True)\n"
   ]
  },
  {
   "cell_type": "markdown",
   "metadata": {},
   "source": [
    "## K-means with removed Outliers "
   ]
  },
  {
   "cell_type": "code",
   "execution_count": 42,
   "metadata": {},
   "outputs": [
    {
     "name": "stdout",
     "output_type": "stream",
     "text": [
      "Mean of RFM:\n",
      "R    553.0769\n",
      "F      8.5182\n",
      "M     -0.1879\n",
      "dtype: float64 \n",
      "\n",
      "Cluster centers:\n",
      "[[989.23257288   5.09505703  -0.13926669]\n",
      " [627.81512503   7.48397669  -0.22164418]\n",
      " [342.61400754  10.45964196  -0.18413163]] \n",
      "\n",
      "RFM Data with labels\n",
      "                 R   F         M  labels\n",
      "Customer code                           \n",
      "353            235  11  0.274576       2\n",
      "1072           426   3 -0.333062       2\n",
      "1076           246   2 -0.230930       2\n",
      "1080           356  23 -0.085600       2\n",
      "1091           333  11 -0.510055       2\n",
      "...            ...  ..       ...     ...\n",
      "209426         235   4  0.006452       2\n",
      "209443         237   2 -0.498428       2\n",
      "209454         237   2 -0.498428       2\n",
      "209485         235   2 -0.489801       2\n",
      "209973         236   2 -0.498416       2\n",
      "\n",
      "[25708 rows x 4 columns]\n"
     ]
    }
   ],
   "source": [
    "print('Mean of RFM:')\n",
    "print(np.around(ro_RFM_df.mean(),decimals=4), '\\n')\n",
    "print('Cluster centers:')\n",
    "print(k3_centers,'\\n')\n",
    "print('RFM Data with labels')\n",
    "RFM_Kmeans_ro=ro_RFM_df.copy()\n",
    "RFM_Kmeans_ro['labels']=k3_lab\n",
    "print(RFM_Kmeans_ro)\n",
    "RFM_Kmeans_ro.to_csv(os.path.join(root,'RFM_Kmeans_ro.csv'),index=True)"
   ]
  },
  {
   "cell_type": "markdown",
   "metadata": {},
   "source": [
    "## K-means with removed Outliers and normalized"
   ]
  },
  {
   "cell_type": "code",
   "execution_count": 43,
   "metadata": {},
   "outputs": [
    {
     "name": "stdout",
     "output_type": "stream",
     "text": [
      "Mean of RFM:\n",
      "R   -4.151400e-15\n",
      "F    2.647969e-15\n",
      "M    8.528010e-15\n",
      "dtype: float64 \n",
      "\n",
      "Cluster centers:\n",
      "[[ 1.4318 -0.6348 -0.1554]\n",
      " [-0.433  -0.4922 -0.4302]\n",
      " [-0.0869  0.2965  2.1134]\n",
      " [-0.6042  1.3692 -0.1271]]\n"
     ]
    }
   ],
   "source": [
    "print('Mean of RFM:')\n",
    "print(normalized_ro_RFM_df.mean(), '\\n')\n",
    "print('Cluster centers:')\n",
    "print(np.around(k4_centers,decimals=4))"
   ]
  },
  {
   "cell_type": "code",
   "execution_count": 44,
   "metadata": {},
   "outputs": [
    {
     "name": "stdout",
     "output_type": "stream",
     "text": [
      "Denormalized Mean of RFM:\n",
      "R    553.076863\n",
      "F      8.518243\n",
      "M     -0.187891\n",
      "dtype: float64 \n",
      "\n",
      "Denormalized Cluster centers:\n",
      "[[920.38229376   4.71730382  -0.23891374]\n",
      " [442.00455137   5.57105703  -0.32910154]\n",
      " [530.7826087   10.29364548   0.50586142]\n",
      " [398.0759853   16.71626587  -0.22959763]] \n",
      "\n",
      "RFM Data with labels\n",
      "                 R   F         M  labels\n",
      "Customer code                           \n",
      "353            235  11  0.274576       2\n",
      "1072           426   3 -0.333062       1\n",
      "1076           246   2 -0.230930       1\n",
      "1080           356  23 -0.085600       3\n",
      "1091           333  11 -0.510055       1\n",
      "...            ...  ..       ...     ...\n",
      "209426         235   4  0.006452       1\n",
      "209443         237   2 -0.498428       1\n",
      "209454         237   2 -0.498428       1\n",
      "209485         235   2 -0.489801       1\n",
      "209973         236   2 -0.498416       1\n",
      "\n",
      "[25708 rows x 4 columns]\n"
     ]
    }
   ],
   "source": [
    "print('Denormalized Mean of RFM:')\n",
    "print(ro_RFM_df.mean(),'\\n')\n",
    "print('Denormalized Cluster centers:')\n",
    "print(k4_centers*ro_RFM_df.std().to_numpy()+ro_RFM_df.mean().to_numpy(),'\\n')\n",
    "print('RFM Data with labels')\n",
    "RFM_Kmeans_ro_nor = ro_RFM_df.copy()\n",
    "RFM_Kmeans_ro_nor['labels']=k4_lab\n",
    "print(RFM_Kmeans_ro_nor)\n",
    "RFM_Kmeans_ro_nor.to_csv(os.path.join(root,'RFM_Kmeans_ro_nor.csv'),index=True)"
   ]
  },
  {
   "cell_type": "code",
   "execution_count": null,
   "metadata": {},
   "outputs": [],
   "source": []
  },
  {
   "cell_type": "code",
   "execution_count": null,
   "metadata": {},
   "outputs": [],
   "source": []
  }
 ],
 "metadata": {
  "kernelspec": {
   "display_name": "Python 3",
   "language": "python",
   "name": "python3"
  },
  "language_info": {
   "codemirror_mode": {
    "name": "ipython",
    "version": 3
   },
   "file_extension": ".py",
   "mimetype": "text/x-python",
   "name": "python",
   "nbconvert_exporter": "python",
   "pygments_lexer": "ipython3",
   "version": "3.7.7"
  }
 },
 "nbformat": 4,
 "nbformat_minor": 4
}
